{
 "cells": [
  {
   "cell_type": "code",
   "execution_count": 3,
   "id": "5c8e5f8c",
   "metadata": {},
   "outputs": [],
   "source": [
    "# Import the Python CPLEX module\n",
    "import cplex\n",
    "import sympy as sp"
   ]
  },
  {
   "cell_type": "code",
   "execution_count": null,
   "id": "e0a7b354",
   "metadata": {},
   "outputs": [
    {
     "name": "stdout",
     "output_type": "stream",
     "text": [
      "Version identifier: 22.1.2.0 | 2024-12-10 | f4cec290b\n",
      "CPXPARAM_Read_DataCheck                          1\n",
      "Tried aggregator 1 time.\n",
      "No LP presolve or aggregator reductions.\n",
      "Presolve time = 0.00 sec. (0.00 ticks)\n",
      "\n",
      "Iteration log . . .\n",
      "Iteration:     1   Dual objective     =            15.000000\n",
      "Optimal objective value: 15.0\n",
      "Variable values: [0.0, 0.0, 5.0]\n"
     ]
    }
   ],
   "source": [
    "# example from https://www.tutorialspoint.com/an-introduction-to-python-cplex-module\n",
    "# Create a Cplex object to represent the optimization problem\n",
    "problem = cplex.Cplex()\n",
    "\n",
    "# Add three variables to the problem, with upper and lower bounds of 0 and 10\n",
    "d = 2\n",
    "problem.variables.add(ub=[d, d, d], lb=[0, 0, 0], names=[\"x1\", \"x2\", \"x3\"])\n",
    "\n",
    "# Add two constraints to the problem\n",
    "problem.linear_constraints.add(rhs=[20, 30], senses=[\"L\", \"L\"], names=[\"c1\", \"c2\"])\n",
    "\n",
    "# Set the coefficients for the variables in the constraints\n",
    "problem.linear_constraints.set_coefficients(\n",
    "\t[(\"c1\", \"x1\", 10), (\"c1\", \"x2\", 6), \n",
    "\t (\"c1\", \"x3\", 4), (\"c2\", \"x1\", 5), \n",
    "\t (\"c2\", \"x2\", 4), (\"c2\", \"x3\", 5)]\n",
    ")\n",
    "#The first constraint (c1) specifies that the sum of 10x1 + 6x2 + 4x3 must be less than or equal to 20. \n",
    "# The second constraint (c2) specifies that the sum of 5x1 + 4x2 + 5x3 must be less than or equal to 30.\n",
    "\n",
    "\n",
    "# Set the objective function to maximize 1x1 + 2x2 + 3x3\n",
    "problem.objective.set_sense(problem.objective.sense.maximize)\n",
    "problem.objective.set_linear(zip([\"x1\", \"x2\", \"x3\"], [1, 2, 3]))\n",
    "\n",
    "# Solve the optimization problem\n",
    "problem.solve()\n",
    "\n",
    "# Print the optimal objective value\n",
    "print(\"Optimal objective value:\", problem.solution.get_objective_value())\n",
    "\n",
    "# Print the values of the variables at the optimal solution\n",
    "print(\"Variable values:\", problem.solution.get_values())"
   ]
  },
  {
   "cell_type": "markdown",
   "id": "84de4e9b",
   "metadata": {},
   "source": [
    "Now we want a version that is a bit closer to our case..."
   ]
  },
  {
   "cell_type": "code",
   "execution_count": null,
   "id": "7c0cd873",
   "metadata": {},
   "outputs": [
    {
     "name": "stdout",
     "output_type": "stream",
     "text": [
      "Matrix symbol M: M\n"
     ]
    },
    {
     "ename": "TypeError",
     "evalue": "'MatrixSymbol' object does not support item assignment",
     "output_type": "error",
     "traceback": [
      "\u001b[31m---------------------------------------------------------------------------\u001b[39m",
      "\u001b[31mTypeError\u001b[39m                                 Traceback (most recent call last)",
      "\u001b[36mCell\u001b[39m\u001b[36m \u001b[39m\u001b[32mIn[6]\u001b[39m\u001b[32m, line 10\u001b[39m\n\u001b[32m      3\u001b[39m \u001b[38;5;28mprint\u001b[39m(\u001b[33m\"\u001b[39m\u001b[33mMatrix symbol M:\u001b[39m\u001b[33m\"\u001b[39m, M)\n\u001b[32m      5\u001b[39m ham = sp.Matrix([[\u001b[32m1\u001b[39m, \u001b[32m0\u001b[39m, \u001b[32m1\u001b[39m, \u001b[32m1\u001b[39m],\n\u001b[32m      6\u001b[39m                  [\u001b[32m0\u001b[39m, \u001b[32m1\u001b[39m, \u001b[32m0\u001b[39m, \u001b[32m1\u001b[39m],\n\u001b[32m      7\u001b[39m                  [\u001b[32m0\u001b[39m, \u001b[32m1\u001b[39m, \u001b[32m0\u001b[39m, \u001b[32m0\u001b[39m],\n\u001b[32m      8\u001b[39m                  [\u001b[32m1\u001b[39m, \u001b[32m0\u001b[39m, \u001b[32m0\u001b[39m, \u001b[32m1\u001b[39m]])\n\u001b[32m---> \u001b[39m\u001b[32m10\u001b[39m \u001b[43mM\u001b[49m\u001b[43m[\u001b[49m\u001b[32;43m0\u001b[39;49m\u001b[43m,\u001b[49m\u001b[43m \u001b[49m\u001b[32;43m0\u001b[39;49m\u001b[43m]\u001b[49m = sp.Symbol(\u001b[33m'\u001b[39m\u001b[33mM_00\u001b[39m\u001b[33m'\u001b[39m)\n",
      "\u001b[31mTypeError\u001b[39m: 'MatrixSymbol' object does not support item assignment"
     ]
    }
   ],
   "source": [
    "M = sp.MatrixSymbol('M', 4, 4)\n",
    "# Print the matrix symbol\n",
    "print(\"Matrix symbol M:\", M)\n",
    "\n",
    "ham = sp.Matrix([[1, 0, 1, 1],\n",
    "                 [0, 1, 0, 1],\n",
    "                 [0, 1, 0, 0],\n",
    "                 [1, 0, 0, 1]])\n",
    "\n"
   ]
  },
  {
   "cell_type": "code",
   "execution_count": null,
   "id": "3ad5156d",
   "metadata": {},
   "outputs": [],
   "source": []
  }
 ],
 "metadata": {
  "kernelspec": {
   "display_name": ".venv",
   "language": "python",
   "name": "python3"
  },
  "language_info": {
   "codemirror_mode": {
    "name": "ipython",
    "version": 3
   },
   "file_extension": ".py",
   "mimetype": "text/x-python",
   "name": "python",
   "nbconvert_exporter": "python",
   "pygments_lexer": "ipython3",
   "version": "3.12.3"
  }
 },
 "nbformat": 4,
 "nbformat_minor": 5
}
